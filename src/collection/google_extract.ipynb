{
 "cells": [
  {
   "cell_type": "code",
   "execution_count": 1,
   "id": "8d1795c1",
   "metadata": {},
   "outputs": [],
   "source": [
    "import requests\n",
    "import urllib\n",
    "import json\n",
    "import os\n",
    "import pandas as pd\n",
    "from requests_html import HTML\n",
    "from requests_html import HTMLSession\n",
    "from bs4 import BeautifulSoup\n",
    "from bs4.element import Comment\n",
    "\n",
    "from ipywidgets import IntProgress\n",
    "from IPython.display import display\n",
    "import time"
   ]
  },
  {
   "cell_type": "markdown",
   "id": "a7bd504d",
   "metadata": {},
   "source": [
    "## Getting text from google top search"
   ]
  },
  {
   "cell_type": "code",
   "execution_count": 2,
   "id": "84d14744",
   "metadata": {},
   "outputs": [],
   "source": [
    "def get_source(url):\n",
    "    try:\n",
    "        session = HTMLSession()\n",
    "        response = session.get(url)\n",
    "        return response\n",
    "\n",
    "    except requests.exceptions.RequestException as e:\n",
    "        print(e)\n"
   ]
  },
  {
   "cell_type": "code",
   "execution_count": 3,
   "id": "deb65a7f",
   "metadata": {},
   "outputs": [],
   "source": [
    "def get_results(query: str):\n",
    "\n",
    "    query = urllib.parse.quote_plus(query)\n",
    "    response = get_source(\"https://www.google.com/search?q=\" + query)\n",
    "\n",
    "    links = list(response.html.absolute_links)\n",
    "    google_domains = ('https://www.google.',\n",
    "                      'https://google.',\n",
    "                      'https://webcache.googleusercontent.',\n",
    "                      'http://webcache.googleusercontent.',\n",
    "                      'https://policies.google.',\n",
    "                      'https://support.google.',\n",
    "                      'https://maps.google.')\n",
    "\n",
    "    for url in links[:]:\n",
    "        if url.startswith(google_domains):\n",
    "            links.remove(url)\n",
    "\n",
    "    return links\n"
   ]
  },
  {
   "cell_type": "code",
   "execution_count": 4,
   "id": "334bb4f3",
   "metadata": {},
   "outputs": [],
   "source": [
    "def tag_visible(element):\n",
    "    if element.parent.name in ['style', 'script', 'head', 'title', 'meta', '[document]']:\n",
    "        return False\n",
    "    if isinstance(element, Comment):\n",
    "        return False\n",
    "    return True\n",
    "\n",
    "\n",
    "def text_from_html(body: str):\n",
    "    soup = BeautifulSoup(body, 'html.parser')\n",
    "    texts = soup.findAll(text=True)\n",
    "    visible_texts = filter(tag_visible, texts)\n",
    "    return u\" \".join(t.strip() for t in visible_texts)\n"
   ]
  },
  {
   "cell_type": "code",
   "execution_count": 5,
   "id": "7f462a50",
   "metadata": {},
   "outputs": [],
   "source": [
    "def parse_results(response: dict):\n",
    "\n",
    "    item = {\n",
    "        'link': response.url,\n",
    "        'text': text_from_html(response.content)\n",
    "    }\n",
    "    return item\n"
   ]
  },
  {
   "cell_type": "code",
   "execution_count": 6,
   "id": "53e1cc32",
   "metadata": {
    "scrolled": true
   },
   "outputs": [],
   "source": [
    "def scrape_google(query):\n",
    "    results = []\n",
    "    for link in get_results(query):\n",
    "        response = get_source(link)\n",
    "        item = parse_results(response)\n",
    "        results.append(item)\n",
    "    return results\n"
   ]
  },
  {
   "cell_type": "code",
   "execution_count": 7,
   "id": "dffa270d",
   "metadata": {},
   "outputs": [],
   "source": [
    "results = scrape_google(\"Eurídice\")\n"
   ]
  },
  {
   "cell_type": "code",
   "execution_count": 20,
   "id": "b3ee86f8",
   "metadata": {
    "scrolled": true
   },
   "outputs": [
    {
     "data": {
      "text/plain": [
       "[{'link': 'https://es.wikipedia.org/wiki/Aulon%C3%ADade',\n",
       "  'text': '         Auloníade   De Wikipedia, la enciclopedia libre     Ir a la navegación  Ir a la búsqueda   Eurídice moribunda (1822), de Charles-François Lebœuf (Museo del Louvre).  Las auloníades (del griego clásico αύλών aulon , ‘valle’, ‘quebrada’) eran las ninfas que podían hallarse en los pastos de las montañas y los valles, a menudo en compañía de Pan , el dios de los pastores y los rebaños. Eurídice , por quien Orfeo viajó al Hades , era una auloníade, que halló la muerte en el valle del río Peneo ( Tesalia ) mientras huía de Aristeo , hijo del dios Apolo y la ninfa Cirene , cuyo deseo de poseerla le hizo pisar una serpiente venenosa.  Fuentes [ editar ]  Himnos órficos l.7  Ovidio , Las metamorfosis xv.490  Teócrito , Idilios viii.44, xiii.44  Virgilio , Geórgicas iv.535  Véase también [ editar ]  Ninfa    Control de autoridades  Proyectos Wikimedia  Datos:  Q2871786   Datos:  Q2871786       Obtenido de « https://es.wikipedia.org/w/index.php?title=Auloníade&oldid=121210027 »  Categoría : Ninfas     Menú de navegación     Herramientas personales    No has accedido Discusión Contribuciones Crear una cuenta Acceder       Espacios de nombres    Artículo Discusión       español           Vistas    Leer Editar Ver historial       Más                           Navegación    Portada Portal de la comunidad Actualidad Cambios recientes Páginas nuevas Página aleatoria Ayuda Donaciones Notificar un error      Herramientas    Lo que enlaza aquí Cambios en enlazadas Subir archivo Páginas especiales Enlace permanente Información de la página Citar esta página Elemento de Wikidata      Imprimir/exportar    Crear un libro Descargar como PDF Versión para imprimir      En otros idiomas    Afrikaans Bosanski English Euskara Français Italiano Nederlands Português  Editar enlaces        Esta página se editó por última vez el 10 nov 2019 a las 13:42.  El texto está disponible bajo la Licencia Creative Commons Atribución Compartir Igual\\xa03.0 ;\\npueden aplicarse cláusulas adicionales. Al usar este sitio, usted acepta nuestros términos de uso y nuestra política de privacidad . Wikipedia® es una marca registrada de la Fundación Wikimedia, Inc. , una organización sin ánimo de lucro.    Política de privacidad  Acerca de Wikipedia  Limitación de responsabilidad  Versión para móviles  Desarrolladores  Estadísticas  Declaración de cookies          '},\n",
       " {'link': 'https://egeosuvlakeria.com/el-mito-de-orfeo-y-euridice/',\n",
       "  'text': '                Por qué Egeo  Restaurantes   Restaurante Egeo Lavapiés  Restaurante Egeo Malasaña  Restaurante Egeo Valencia    Nuestra carta  Reservas   Reserva Valencia  Reservas Malasaña    Pedido online  Galería  Blog  Prensa  Contacto             En Madrid, te llevamos tu pedido gratis enviando un whatsapp al 627 339 200 o mediante pedido online y en Valencia nos encuentras en Uber Eats. Lavapiés  918 264 644 | Malasaña 912 321 359 | Valencia 960 21 01 48                           0,00 € 0 artículos en tu cesta de la compra Desafortunadamente, tu cesta de la compra está vacía. Ir a la tienda                        Por qué Egeo  Restaurantes   Restaurante Egeo Lavapiés  Restaurante Egeo Malasaña  Restaurante Egeo Valencia    Nuestra carta  Reservas   Reserva Valencia  Reservas Malasaña    Pedido online  Galería  Blog  Prensa  Contacto                 El mito de Orfeo y Euridice.               El mito de Orfeo y Euridice.         El mito de Orfeo y Euridice.   El secreto de la dieta griega  El yogur griego: más sabroso y saludable que los demás   Posted by egeo on 12 febrero, 2019 in Blog     ¿A quién no le gustan las historias de amor? Pues en el post de hoy hablaremos de la que posiblemente es la historia de amor más antigua. El mito de Orfeo y Eurídice.  Orfeo era un joven muy apuesto, pero no solo era conocido por eso, sino que era conocido porque con su lira era capaz de tocar las melodías más maravillosas que los humanos hubiesen escuchado.   Fue así como Eurídice se enamoró de Orfeo y poco después decidieron casarse.  Pero lamentablemente Eurídice murió poco después de casarse por culpa de la picadura de una serpiente. Orfeo entro en una profunda pena, hasta que se decidió a bajar hasta el mismísimo inframundo para así poder salvar a su amada. Y así fue, bajo hasta el inframundo y una vez allí intento llevarse a Orfeo. Pero Hades no permitía que Orfeo se llevara a Eurídice. Así que Orfeo se puso a cantar para Hades y Eurídice, hasta que ellos se comparecieron de él y permitieron que se llevara a Orfeo con una condición: No podía mirar a su amada hasta que estuviera totalmente bañada por la luz del sol. Así lo hicieron y cuando salieron al exterior Orfeo se giró para verla. Pero no se percató que un pie se había quedado en las sombras así que Eurídice desapareció en la oscuridad del inframundo y esta vez para siempre.   Orfeo triste pereció en batalla a las pocas semanas, pero al morir e irse al inframundo, consiguió por fin estar al lado de su amada, para toda la vida.       Comparte este artículo:           Artículos relacionados            Por qué comer en la Suvlakeria Egeo: lo que nos hace diferentes             Descubre el “Halloween” de la mitología griega             Los 9 postres más deliciosos de la cocina griega             Los panes más típicos de Grecia: más allá del pan de pita                     MALASAÑA  Calle Barco, 41 28004 Madrid  Metro Callao y Tribunal Teléfono: +34\\xa0 912 321 359    LAVAPIES  Calle San Carlos, 17 28012 Madrid  Metro Lavapiés y Antón Martín (esquina con Calle Ave María) Teléfono: +34\\xa0 918 264 644    VALENCIA  Calle Literato Azorín, 8 46006, Valencia  Teléfono: +34\\xa0 960210148     SÍGUENOS       Egeo Suvlakeria Griega, Russafa  Recomendado en Restaurant Guru 2023            Hacemos reservas en los restaurantes de Malasaña (Madrid) y Ruzafa (Valencia). Para reservar llama al teléfono indicado o haz tu reserva online. No trabajamos con reservas en  Lavapiés (Madrid)     Política de privacidad | Política de cookies | Política de entrega | FAQ | Trabaja con nosotros                   Suvlakeria Egeo utiliza cookies para mejorar tu experiencia. Si permaneces en la página asumimos que aceptas su uso. Para más información consulta nuestra Política de Cookies . Aceptar Privacy & Cookies Policy      Cerrar        Privacy Overview   This website uses cookies to improve your experience while you navigate through the website. Out of these, the cookies that are categorized as necessary are stored on your browser as they are essential for the working of basic functionalities of the website. We also use third-party cookies that help us analyze and understand how you use this website. These cookies will be stored in your browser only with your consent. You also have the option to opt-out of these cookies. But opting out of some of these cookies may affect your browsing experience.         Necessary    Necessary   Siempre activado     Necessary cookies are absolutely essential for the website to function properly. This category only includes cookies that ensures basic functionalities and security features of the website. These cookies do not store any personal information.       Non-necessary    Non-necessary      Any cookies that may not be particularly necessary for the website to function and is used specifically to collect user personal data via analytics, ads, other embedded contents are termed as non-necessary cookies. It is mandatory to procure user consent prior to running these cookies on your website.              GUARDAR Y ACEPTAR                                                                              '}]"
      ]
     },
     "execution_count": 20,
     "metadata": {},
     "output_type": "execute_result"
    }
   ],
   "source": [
    "results[:2]\n"
   ]
  },
  {
   "cell_type": "code",
   "execution_count": 17,
   "id": "b705daae",
   "metadata": {
    "scrolled": true
   },
   "outputs": [],
   "source": [
    "words = []\n",
    "with open('../../data/processed/subset_words.json') as f:\n",
    "    words = json.load(f)\n"
   ]
  },
  {
   "cell_type": "code",
   "execution_count": 10,
   "id": "5df046d5",
   "metadata": {},
   "outputs": [],
   "source": [
    "def save_json(my_dict: dict, file_path: str):\n",
    "    with open(file_path, 'w', encoding='utf8') as convert_file:\n",
    "        convert_file.write(json.dumps(my_dict))\n"
   ]
  },
  {
   "attachments": {},
   "cell_type": "markdown",
   "id": "9212b25e",
   "metadata": {},
   "source": [
    "## Correr de manera automatica la extraccion de google"
   ]
  },
  {
   "cell_type": "code",
   "execution_count": 25,
   "id": "a9735b52",
   "metadata": {},
   "outputs": [
    {
     "data": {
      "application/vnd.jupyter.widget-view+json": {
       "model_id": "0f560cdd2c454e1a9e8de6c388bd3c24",
       "version_major": 2,
       "version_minor": 0
      },
      "text/plain": [
       "IntProgress(value=0)"
      ]
     },
     "metadata": {},
     "output_type": "display_data"
    },
    {
     "name": "stdout",
     "output_type": "stream",
     "text": [
      "HTTPSConnectionPool(host='www.tesoro.es', port=443): Max retries exceeded with url: /en/leyes/norma-tramitada-resoluci%C3%B3n?page=130 (Caused by SSLError(SSLCertVerificationError(1, '[SSL: CERTIFICATE_VERIFY_FAILED] certificate verify failed: unable to get local issuer certificate (_ssl.c:1129)')))\n",
      "'NoneType' object has no attribute 'url'\n"
     ]
    },
    {
     "name": "stderr",
     "output_type": "stream",
     "text": [
      "Some characters could not be decoded, and were replaced with REPLACEMENT CHARACTER.\n",
      "Some characters could not be decoded, and were replaced with REPLACEMENT CHARACTER.\n",
      "Some characters could not be decoded, and were replaced with REPLACEMENT CHARACTER.\n",
      "Some characters could not be decoded, and were replaced with REPLACEMENT CHARACTER.\n",
      "Some characters could not be decoded, and were replaced with REPLACEMENT CHARACTER.\n"
     ]
    },
    {
     "name": "stdout",
     "output_type": "stream",
     "text": [
      "HTTPSConnectionPool(host='myspace.com', port=443): Max retries exceeded with url: /nervo (Caused by SSLError(SSLCertVerificationError(1, '[SSL: CERTIFICATE_VERIFY_FAILED] certificate verify failed: unable to get local issuer certificate (_ssl.c:1129)')))\n",
      "'NoneType' object has no attribute 'url'\n"
     ]
    },
    {
     "name": "stderr",
     "output_type": "stream",
     "text": [
      "Some characters could not be decoded, and were replaced with REPLACEMENT CHARACTER.\n"
     ]
    },
    {
     "name": "stdout",
     "output_type": "stream",
     "text": [
      "HTTPSConnectionPool(host='www.institutoleonesdecultura.es', port=443): Max retries exceeded with url: / (Caused by NewConnectionError('<urllib3.connection.HTTPSConnection object at 0x0000023D59C59BB0>: Failed to establish a new connection: [WinError 10060] A connection attempt failed because the connected party did not properly respond after a period of time, or established connection failed because connected host has failed to respond'))\n",
      "'NoneType' object has no attribute 'url'\n"
     ]
    },
    {
     "name": "stderr",
     "output_type": "stream",
     "text": [
      "Some characters could not be decoded, and were replaced with REPLACEMENT CHARACTER.\n"
     ]
    },
    {
     "name": "stdout",
     "output_type": "stream",
     "text": [
      "HTTPSConnectionPool(host='www.mincit.gov.co', port=443): Max retries exceeded with url: /minindustria/estrategia-sectorial/clusteres (Caused by NewConnectionError('<urllib3.connection.HTTPSConnection object at 0x0000023D5AE67A00>: Failed to establish a new connection: [Errno 11002] getaddrinfo failed'))\n",
      "'NoneType' object has no attribute 'url'\n",
      "HTTPSConnectionPool(host='masdearte.com', port=443): Max retries exceeded with url: /movimientos/rococo/ (Caused by SSLError(SSLCertVerificationError(1, '[SSL: CERTIFICATE_VERIFY_FAILED] certificate verify failed: unable to get local issuer certificate (_ssl.c:1129)')))\n",
      "'NoneType' object has no attribute 'url'\n"
     ]
    },
    {
     "name": "stderr",
     "output_type": "stream",
     "text": [
      "Some characters could not be decoded, and were replaced with REPLACEMENT CHARACTER.\n",
      "Some characters could not be decoded, and were replaced with REPLACEMENT CHARACTER.\n",
      "Some characters could not be decoded, and were replaced with REPLACEMENT CHARACTER.\n"
     ]
    },
    {
     "name": "stdout",
     "output_type": "stream",
     "text": [
      "HTTPSConnectionPool(host='sdindustrial.com.mx', port=443): Max retries exceeded with url: /blog/fusibles/ (Caused by SSLError(SSLCertVerificationError(1, '[SSL: CERTIFICATE_VERIFY_FAILED] certificate verify failed: unable to get local issuer certificate (_ssl.c:1129)')))\n",
      "'NoneType' object has no attribute 'url'\n"
     ]
    },
    {
     "name": "stderr",
     "output_type": "stream",
     "text": [
      "Some characters could not be decoded, and were replaced with REPLACEMENT CHARACTER.\n",
      "Some characters could not be decoded, and were replaced with REPLACEMENT CHARACTER.\n",
      "Some characters could not be decoded, and were replaced with REPLACEMENT CHARACTER.\n",
      "Some characters could not be decoded, and were replaced with REPLACEMENT CHARACTER.\n"
     ]
    },
    {
     "name": "stdout",
     "output_type": "stream",
     "text": [
      "HTTPSConnectionPool(host='www.cdc.gov', port=443): Max retries exceeded with url: /arthritis/spanish/tipos/Gota.html (Caused by NewConnectionError('<urllib3.connection.HTTPSConnection object at 0x0000023D59BC97F0>: Failed to establish a new connection: [Errno 11002] getaddrinfo failed'))\n",
      "'NoneType' object has no attribute 'url'\n"
     ]
    },
    {
     "name": "stderr",
     "output_type": "stream",
     "text": [
      "Some characters could not be decoded, and were replaced with REPLACEMENT CHARACTER.\n",
      "Some characters could not be decoded, and were replaced with REPLACEMENT CHARACTER.\n"
     ]
    },
    {
     "name": "stdout",
     "output_type": "stream",
     "text": [
      "('Connection aborted.', ConnectionResetError(10054, 'An existing connection was forcibly closed by the remote host', None, 10054, None))\n",
      "'NoneType' object has no attribute 'url'\n",
      "HTTPSConnectionPool(host='www.enviacolvanes.com.co', port=443): Max retries exceeded with url: / (Caused by SSLError(SSLCertVerificationError(\"hostname 'www.enviacolvanes.com.co' doesn't match either of '*.envia.co', 'envia.co'\")))\n",
      "'NoneType' object has no attribute 'url'\n"
     ]
    }
   ],
   "source": [
    "\n",
    "max_count = len(words[:100])\n",
    "\n",
    "f = IntProgress(min=0, max=max_count)  # instantiate the bar\n",
    "display(f)  # display the bar\n",
    "count = 0\n",
    "full_scrapping = dict()\n",
    "while count <= max_count:\n",
    "    f.value += 1  # signal to increment the progress bar}\n",
    "    act_word = words[count]\n",
    "\n",
    "    try:\n",
    "        full_scrapping[act_word] = scrape_google(act_word)\n",
    "\n",
    "    except Exception as e:\n",
    "        print(e)\n",
    "\n",
    "    count += 1\n"
   ]
  },
  {
   "cell_type": "code",
   "execution_count": 26,
   "id": "85adef81",
   "metadata": {},
   "outputs": [
    {
     "data": {
      "text/plain": [
       "dict_keys(['Students', 'membrete', 'amoríos', 'Tablet', 'Moca', 'enrutamiento', 'debutaba', 'narraron', 'almirantes', 'estallan', 'estómagos', 'recordaría', 'Cirene', 'six', 'Surfer', 'Transmisiones', 'Pluto', 'lomita', 'plurinacional', 'Agrigento', 'biberón', 'Piter', 'fraseo', 'Gerardi', 'platós', 'modernamente', 'barajando', 'APLICABLES', 'PÚBLICO', 'Wenders', 'barre', 'Paramore', 'Flaming', 'inmunitaria', 'Asistentes', 'relatados', 'suis', 'bautista', 'BNFL', 'Quíos', 'heroicamente', 'Nimrod', 'Pathfinder', 'ΕΚ', 'Shura', 'Rhon', 'Aller', 'Jalid', 'Mantenga', 'deficitarios', 'traballo', 'micrómetros', 'Mosqueda', 'żCómo', 'RESPONSABILIDAD', 'Redskins', 'Persa', 'cuecen', 'Peregrina', 'Archive', 'cinéfilos', 'Vania', 'Orihime', 'tlaxcalteca', 'bizcocho', 'factorización', 'Eurídice', 'Ixcán', 'Tenet', 'Aguacate', 'Febo', 'Intensifique', 'repararon', 'PPS', 'hiato', 'mort', 'ISN', 'dioxina', 'Cuerdas', 'Lessing', 'coctel', 'enrarecido', 'Antillón', 'request', 'Raider', 'Guridi', 'deshuesada', 'nailon', 'Gourmet', 'abjasios', 'Liquigas', 'CUARTO'])"
      ]
     },
     "execution_count": 26,
     "metadata": {},
     "output_type": "execute_result"
    }
   ],
   "source": [
    "full_scrapping.keys()"
   ]
  },
  {
   "cell_type": "code",
   "execution_count": 27,
   "id": "e928209a",
   "metadata": {},
   "outputs": [],
   "source": [
    "save_json(full_scrapping, '../../data/raw/100_scrapped_google.json')\n"
   ]
  },
  {
   "cell_type": "code",
   "execution_count": null,
   "id": "24d7b9a1",
   "metadata": {},
   "outputs": [],
   "source": []
  }
 ],
 "metadata": {
  "kernelspec": {
   "display_name": "Python 3 (ipykernel)",
   "language": "python",
   "name": "python3"
  },
  "language_info": {
   "codemirror_mode": {
    "name": "ipython",
    "version": 3
   },
   "file_extension": ".py",
   "mimetype": "text/x-python",
   "name": "python",
   "nbconvert_exporter": "python",
   "pygments_lexer": "ipython3",
   "version": "3.9.7"
  },
  "vscode": {
   "interpreter": {
    "hash": "8fd0fadf7833422e8bfb2c36de1c6ae0b90c8020701ecb40f04546964fd65310"
   }
  }
 },
 "nbformat": 4,
 "nbformat_minor": 5
}
