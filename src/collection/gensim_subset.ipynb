{
 "cells": [
  {
   "cell_type": "code",
   "execution_count": 1,
   "id": "969d6d92",
   "metadata": {},
   "outputs": [],
   "source": [
    "from gensim.models import KeyedVectors\n",
    "import os\n",
    "\n",
    "import json\n",
    "  "
   ]
  },
  {
   "cell_type": "code",
   "execution_count": 2,
   "id": "fd57d7b5",
   "metadata": {},
   "outputs": [],
   "source": [
    "model = KeyedVectors.load_word2vec_format('../../data/external/SBW-vectors-300-min5.bin.gz', binary=True)"
   ]
  },
  {
   "cell_type": "code",
   "execution_count": 3,
   "id": "785d9373",
   "metadata": {},
   "outputs": [
    {
     "data": {
      "text/plain": [
       "7.295236210754378"
      ]
     },
     "execution_count": 3,
     "metadata": {},
     "output_type": "execute_result"
    }
   ],
   "source": [
    "(73000/len(model))*100"
   ]
  },
  {
   "cell_type": "code",
   "execution_count": 4,
   "id": "33d57812",
   "metadata": {
    "scrolled": true
   },
   "outputs": [
    {
     "data": {
      "text/plain": [
       "1000653"
      ]
     },
     "execution_count": 4,
     "metadata": {},
     "output_type": "execute_result"
    }
   ],
   "source": [
    "len(model.index_to_key)"
   ]
  },
  {
   "cell_type": "code",
   "execution_count": 5,
   "id": "647d2375",
   "metadata": {},
   "outputs": [],
   "source": [
    "target=dict()\n",
    "for word in range(73000,100065):\n",
    "    target[model.index_to_key[word]]=model.vectors[word].tolist()"
   ]
  },
  {
   "cell_type": "code",
   "execution_count": 6,
   "id": "19e61ab3",
   "metadata": {},
   "outputs": [
    {
     "data": {
      "text/plain": [
       "27065"
      ]
     },
     "execution_count": 6,
     "metadata": {},
     "output_type": "execute_result"
    }
   ],
   "source": [
    "len(target)"
   ]
  },
  {
   "cell_type": "code",
   "execution_count": 7,
   "id": "578c7c52",
   "metadata": {},
   "outputs": [],
   "source": [
    "def save_json(my_dict:dict,file_path:str):\n",
    "    with open(file_path, 'w', encoding='utf8') as convert_file:\n",
    "         convert_file.write(json.dumps(my_dict))"
   ]
  },
  {
   "cell_type": "code",
   "execution_count": 8,
   "id": "e9aca74b",
   "metadata": {},
   "outputs": [],
   "source": [
    "save_json(list(target.keys()), '../../data/processed/subset_words.json')"
   ]
  },
  {
   "cell_type": "code",
   "execution_count": 9,
   "id": "87f9ae6b",
   "metadata": {},
   "outputs": [],
   "source": [
    "save_json(target, '../../data/processed/presubset_vectors.json')"
   ]
  }
 ],
 "metadata": {
  "kernelspec": {
   "display_name": "Python 3 (ipykernel)",
   "language": "python",
   "name": "python3"
  },
  "language_info": {
   "codemirror_mode": {
    "name": "ipython",
    "version": 3
   },
   "file_extension": ".py",
   "mimetype": "text/x-python",
   "name": "python",
   "nbconvert_exporter": "python",
   "pygments_lexer": "ipython3",
   "version": "3.9.7"
  },
  "vscode": {
   "interpreter": {
    "hash": "8fd0fadf7833422e8bfb2c36de1c6ae0b90c8020701ecb40f04546964fd65310"
   }
  }
 },
 "nbformat": 4,
 "nbformat_minor": 5
}
