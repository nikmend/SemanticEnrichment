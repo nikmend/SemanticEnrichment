{
 "cells": [
  {
   "cell_type": "code",
   "execution_count": 5,
   "id": "e2ea6ce2",
   "metadata": {},
   "outputs": [],
   "source": [
    "import json\n",
    "import pandas as pd\n",
    "import tweepy\n",
    "import time"
   ]
  },
  {
   "cell_type": "code",
   "execution_count": 2,
   "id": "c625c127",
   "metadata": {},
   "outputs": [],
   "source": [
    "credentials = \"keys.json\"\n",
    "with open(credentials, \"r\") as keys:\n",
    "    api_tokens = json.load(keys)\n",
    "\n",
    "API_KEY = api_tokens[\"api_key\"]\n",
    "API_SECRET = api_tokens[\"api_secret\"]\n",
    "BEARER_TOKEN = api_tokens[\"bearer_token\"]\n",
    "ACCESS_TOKEN = api_tokens[\"access_token\"]\n",
    "ACCESS_SECRET = api_tokens[\"access_secret\"]\n"
   ]
  },
  {
   "cell_type": "code",
   "execution_count": 3,
   "id": "681f7e28",
   "metadata": {},
   "outputs": [
    {
     "name": "stdout",
     "output_type": "stream",
     "text": [
      "Successful Authentication\n"
     ]
    }
   ],
   "source": [
    "# Authenticate to Twitter\n",
    "auth = tweepy.OAuthHandler(API_KEY,API_SECRET)\n",
    "auth.set_access_token(ACCESS_TOKEN,ACCESS_SECRET)\n",
    " \n",
    "api = tweepy.API(auth)\n",
    " \n",
    "try:\n",
    "    api.verify_credentials()\n",
    "    print('Successful Authentication')\n",
    "except:\n",
    "    print('Failed authentication')"
   ]
  },
  {
   "cell_type": "code",
   "execution_count": 4,
   "id": "89ceccb9",
   "metadata": {},
   "outputs": [],
   "source": [
    "def get_text_tweets(word, limit=100):\n",
    "    queryTopic='{word} -filter:retweets'.format(word=word)\n",
    "    tweets=api.search_tweets(q=queryTopic, lang='es', count=limit,)\n",
    "    all_status=set()\n",
    "    for tweet in tweets:\n",
    "        status = api.get_status(tweet.id, tweet_mode = \"extended\")\n",
    "        all_status.add(status.full_text)\n",
    "    return list(all_status)"
   ]
  },
  {
   "cell_type": "code",
   "execution_count": 6,
   "id": "6c965ab8",
   "metadata": {},
   "outputs": [],
   "source": [
    "words=[]\n",
    "with open('../../data/processed/subset_words.json') as f:\n",
    "    words = json.load(f)"
   ]
  },
  {
   "cell_type": "code",
   "execution_count": 45,
   "id": "3a7b8d5f",
   "metadata": {},
   "outputs": [
    {
     "name": "stdout",
     "output_type": "stream",
     "text": [
      "Nimrod\n",
      "Pathfinder\n",
      "ΕΚ\n",
      "Shura\n",
      "Rhon\n",
      "Aller\n",
      "Jalid\n",
      "Mantenga\n",
      "deficitarios\n",
      "traballo\n",
      "micrómetros\n",
      "Mosqueda\n",
      "żCómo\n",
      "RESPONSABILIDAD\n",
      "Redskins\n",
      "Persa\n",
      "cuecen\n",
      "Peregrina\n",
      "Archive\n",
      "cinéfilos\n"
     ]
    }
   ],
   "source": [
    "full_scrapping_=dict()\n",
    "for word in words[46:66]:\n",
    "    print(word)\n",
    "    full_scrapping_[word]=get_text_tweets(word,50)"
   ]
  },
  {
   "cell_type": "code",
   "execution_count": 8,
   "id": "46c6ab07",
   "metadata": {},
   "outputs": [],
   "source": [
    "def save_json(my_dict:dict,file_path:str):\n",
    "    with open(file_path, 'w', encoding='utf8') as convert_file:\n",
    "         convert_file.write(json.dumps(my_dict))"
   ]
  },
  {
   "cell_type": "code",
   "execution_count": 9,
   "id": "e5087dec",
   "metadata": {},
   "outputs": [],
   "source": [
    "def merge_dictionaries(dict1, dict2):\n",
    "    merged_dict = dict1.copy()\n",
    "    merged_dict.update(dict2)\n",
    "    return merged_dict"
   ]
  },
  {
   "cell_type": "code",
   "execution_count": 40,
   "id": "b5c1eefc",
   "metadata": {},
   "outputs": [],
   "source": [
    "merge=merge_dictionaries(tmp,full_scrapping_)"
   ]
  },
  {
   "cell_type": "code",
   "execution_count": 42,
   "id": "4730eb17",
   "metadata": {},
   "outputs": [],
   "source": [
    "save_json(merge,'../../data/raw/100_scrapped_tweets.json')"
   ]
  }
 ],
 "metadata": {
  "kernelspec": {
   "display_name": "Python 3 (ipykernel)",
   "language": "python",
   "name": "python3"
  },
  "language_info": {
   "codemirror_mode": {
    "name": "ipython",
    "version": 3
   },
   "file_extension": ".py",
   "mimetype": "text/x-python",
   "name": "python",
   "nbconvert_exporter": "python",
   "pygments_lexer": "ipython3",
   "version": "3.9.7"
  },
  "vscode": {
   "interpreter": {
    "hash": "8fd0fadf7833422e8bfb2c36de1c6ae0b90c8020701ecb40f04546964fd65310"
   }
  }
 },
 "nbformat": 4,
 "nbformat_minor": 5
}
